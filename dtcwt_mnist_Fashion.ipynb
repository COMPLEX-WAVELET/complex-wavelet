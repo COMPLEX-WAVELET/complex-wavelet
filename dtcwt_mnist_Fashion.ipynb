{
  "nbformat": 4,
  "nbformat_minor": 0,
  "metadata": {
    "colab": {
      "name": "dtcwt_mnist_Fashion.ipynb",
      "provenance": []
    },
    "kernelspec": {
      "name": "python3",
      "display_name": "Python 3"
    }
  },
  "cells": [
    {
      "cell_type": "code",
      "metadata": {
        "id": "Imtwi7pk1iwf",
        "colab_type": "code",
        "colab": {}
      },
      "source": [
        "from numpy import *\n",
        "# Load the mandrill image\n",
        "from PIL import Image\n",
        "from matplotlib.pyplot import *\n",
        "from keras.datasets import fashion_mnist\n",
        "from keras.utils import np_utils\n",
        "import keras"
      ],
      "execution_count": 0,
      "outputs": []
    },
    {
      "cell_type": "markdown",
      "metadata": {
        "id": "scIsdF8NjzGs",
        "colab_type": "text"
      },
      "source": [
        "I load the data"
      ]
    },
    {
      "cell_type": "code",
      "metadata": {
        "id": "dH-dGplxk1yX",
        "colab_type": "code",
        "outputId": "d18d8b2d-8271-4001-cfa8-3d5912a26cbd",
        "colab": {
          "base_uri": "https://localhost:8080/",
          "height": 283
        }
      },
      "source": [
        "len_test_set=1000\n",
        "len_train_set=2000\n",
        "\n",
        "(x_train, label_train), (x_test, label_test) = fashion_mnist.load_data()\n",
        "\n",
        "y_train=np_utils.to_categorical(label_train[:len_train_set],10)\n",
        "y_test=np_utils.to_categorical(label_test[:len_test_set],10)\n",
        "\n",
        "im_train=[]\n",
        "im_test=[]\n",
        "\n",
        "for im in x_train[:len_train_set]:\n",
        "  im_train =im_train+[asarray(Image.fromarray(im).resize((32,32)))]\n",
        "for im in x_test[:len_test_set]:\n",
        "  im_test =im_test+[asarray(Image.fromarray(im).resize((32,32)))]\n",
        "\n",
        "imshow(im_train[0])"
      ],
      "execution_count": 2,
      "outputs": [
        {
          "output_type": "execute_result",
          "data": {
            "text/plain": [
              "<matplotlib.image.AxesImage at 0x7f1a6a10d0f0>"
            ]
          },
          "metadata": {
            "tags": []
          },
          "execution_count": 2
        },
        {
          "output_type": "display_data",
          "data": {
            "image/png": "[encoded data removed]",
            "text/plain": [
              "<Figure size 432x288 with 1 Axes>"
            ]
          },
          "metadata": {
            "tags": []
          }
        }
      ]
    },
    {
      "cell_type": "code",
      "metadata": {
        "id": "wdBViIw1vCYA",
        "colab_type": "code",
        "outputId": "ce880d0a-2129-498a-e99c-792e5dd378b2",
        "colab": {
          "base_uri": "https://localhost:8080/",
          "height": 69
        }
      },
      "source": [
        "!pip install dtcwt\n",
        "import dtcwt"
      ],
      "execution_count": 3,
      "outputs": [
        {
          "output_type": "stream",
          "text": [
            "Requirement already satisfied: dtcwt in /usr/local/lib/python3.6/dist-packages (0.12.0)\n",
            "Requirement already satisfied: six in /usr/local/lib/python3.6/dist-packages (from dtcwt) (1.12.0)\n",
            "Requirement already satisfied: numpy in /usr/local/lib/python3.6/dist-packages (from dtcwt) (1.17.5)\n"
          ],
          "name": "stdout"
        }
      ]
    },
    {
      "cell_type": "markdown",
      "metadata": {
        "id": "HXMLRQgRq26_",
        "colab_type": "text"
      },
      "source": [
        "Below is the scattering network using DTCWT:"
      ]
    },
    {
      "cell_type": "code",
      "metadata": {
        "id": "DGjn5xnH2Dwi",
        "colab_type": "code",
        "colab": {}
      },
      "source": [
        "transform = dtcwt.Transform2d()\n",
        "dtcwt.push_backend('tf')\n",
        "\n",
        "def scattering_network(scattering_vector,image,m):\n",
        "  n=len(image)\n",
        "  J=int(log(n/4)/log(2))\n",
        "  image_t=transform.forward(image, nlevels=J+1)\n",
        "  if n>4 and m<M:\n",
        "    for j in range(J):\n",
        "      for theta in range(image_t.highpasses[j].shape[2]):\n",
        "        scattering_vector=scattering_network(scattering_vector,abs(image_t.highpasses[j][:,:,theta]),m+1)\n",
        "  return([abs(image_t.lowpass)]+scattering_vector)\n",
        "\n"
      ],
      "execution_count": 0,
      "outputs": []
    },
    {
      "cell_type": "code",
      "metadata": {
        "id": "fA1WF2g5522H",
        "colab_type": "code",
        "colab": {}
      },
      "source": [
        "M=2\n",
        "scattering_vector_train=[]\n",
        "scattering_vector_test=[]\n",
        "\n",
        "for im in im_train:\n",
        "  scattering_vector_train=scattering_vector_train+[scattering_network([],im,0)]\n",
        "for im in im_test:\n",
        "  scattering_vector_test=scattering_vector_test+[scattering_network([],im,0)]"
      ],
      "execution_count": 0,
      "outputs": []
    },
    {
      "cell_type": "markdown",
      "metadata": {
        "id": "hbE112O9DQtc",
        "colab_type": "text"
      },
      "source": [
        "Here I flattened the scattering vector:"
      ]
    },
    {
      "cell_type": "code",
      "metadata": {
        "id": "31YhWc46SzpK",
        "colab_type": "code",
        "colab": {}
      },
      "source": [
        "train_set=[]\n",
        "test_set=[]\n",
        "\n",
        "for S in scattering_vector_train:\n",
        "  feature_vector_train=[]\n",
        "  for a in S:\n",
        "    for b in a:\n",
        "      for c in b:\n",
        "        #feature_vector_train=feature_vector_train+[log(c)] # With or without log\n",
        "        feature_vector_train=feature_vector_train+[c]\n",
        "  feature_vector_train=np.asarray(feature_vector_train)\n",
        "  train_set=train_set+[feature_vector_train]\n",
        "\n",
        "for S in scattering_vector_test:\n",
        "  feature_vector_test=[]\n",
        "  for a in S:\n",
        "    for b in a:\n",
        "      for c in b:\n",
        "        #feature_vector_test=feature_vector_test+[log(c)]  # With or without log\n",
        "        feature_vector_test=feature_vector_test+[c]\n",
        "  feature_vector_test=np.asarray(feature_vector_test)\n",
        "  test_set=test_set+[feature_vector_test]\n",
        "\n",
        "train_set=np.asarray(train_set)\n",
        "test_set=np.asarray(test_set)"
      ],
      "execution_count": 0,
      "outputs": []
    },
    {
      "cell_type": "markdown",
      "metadata": {
        "id": "58qvn6adkvXG",
        "colab_type": "text"
      },
      "source": [
        "SVM classification"
      ]
    },
    {
      "cell_type": "code",
      "metadata": {
        "id": "9CQ85FiJvSdR",
        "colab_type": "code",
        "colab": {}
      },
      "source": [
        "from sklearn.svm import SVC"
      ],
      "execution_count": 0,
      "outputs": []
    },
    {
      "cell_type": "code",
      "metadata": {
        "id": "CJKQG6IZln_9",
        "colab_type": "code",
        "outputId": "b0aba66f-0e24-44d5-a3d1-a7ab2080a31b",
        "colab": {
          "base_uri": "https://localhost:8080/",
          "height": 86
        }
      },
      "source": [
        "modelSVM = SVC(kernel='linear', probability=True)\n",
        "modelSVM.fit(train_set, label_train[:len_train_set])"
      ],
      "execution_count": 44,
      "outputs": [
        {
          "output_type": "execute_result",
          "data": {
            "text/plain": [
              "SVC(C=1.0, break_ties=False, cache_size=200, class_weight=None, coef0=0.0,\n",
              "    decision_function_shape='ovr', degree=3, gamma='scale', kernel='linear',\n",
              "    max_iter=-1, probability=True, random_state=None, shrinking=True, tol=0.001,\n",
              "    verbose=False)"
            ]
          },
          "metadata": {
            "tags": []
          },
          "execution_count": 44
        }
      ]
    },
    {
      "cell_type": "code",
      "metadata": {
        "id": "W8XEMr4t0V9Z",
        "colab_type": "code",
        "outputId": "f34e8b00-3c93-4514-dde8-260761bf6135",
        "colab": {
          "base_uri": "https://localhost:8080/",
          "height": 34
        }
      },
      "source": [
        "accuracy = modelSVM.score(test_set, label_test[:len_test_set])\n",
        "print('Accuracy: %.2f' % (accuracy*100))"
      ],
      "execution_count": 45,
      "outputs": [
        {
          "output_type": "stream",
          "text": [
            "Accuracy: 84.00\n"
          ],
          "name": "stdout"
        }
      ]
    }
  ]
}