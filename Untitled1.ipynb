{
 "cells": [
  {
   "cell_type": "code",
   "execution_count": 1,
   "metadata": {},
   "outputs": [
    {
     "name": "stderr",
     "output_type": "stream",
     "text": [
      "Using TensorFlow backend.\n"
     ]
    }
   ],
   "source": [
    "from keras.datasets import cifar10\n",
    "from keras.utils import np_utils\n",
    "\n",
    "import numpy as np\n",
    "import matplotlib.pyplot as plt\n",
    "\n",
    "from dtcwt_scattering.scattering_network import *\n",
    "\n",
    "from models.convs import model\n",
    "from time import time"
   ]
  },
  {
   "cell_type": "code",
   "execution_count": 2,
   "metadata": {},
   "outputs": [],
   "source": [
    "len_test_set=1000\n",
    "len_train_set=2000\n",
    "\n",
    "(x_train, label_train), (x_test, label_test) = cifar10.load_data()\n",
    "\n",
    "x_train = x_train[:len_train_set]\n",
    "x_test = x_test[:len_test_set]\n",
    "\n",
    "y_train=np_utils.to_categorical(label_train[:len_train_set],10)\n",
    "y_test=np_utils.to_categorical(label_test[:len_test_set],10)"
   ]
  },
  {
   "cell_type": "code",
   "execution_count": 3,
   "metadata": {},
   "outputs": [
    {
     "name": "stdout",
     "output_type": "stream",
     "text": [
      "Time for channel 1 : 125.25577807426453 seconds\n",
      "Time for channel 2 : 261.5058090686798 seconds\n",
      "Time for channel 3 : 391.76166820526123 seconds\n"
     ]
    }
   ],
   "source": [
    "from multiprocessing import Pool\n",
    "from dtcwt_scattering.scattering_network import filled\n",
    "\n",
    "pool = Pool(processes=8)\n",
    "\n",
    "x_train_dtcwt = np.zeros(shape=(x_train.shape[0], 127, 4, 4, 3))\n",
    "t1 = time()\n",
    "\n",
    "for i in range(x_train.shape[3]):\n",
    "    x_train_dtcwt[:,:,:, :,i] = pool.map(filled, x_train[:,:,:,i])\n",
    "    print('Time for channel {} : {} seconds'.format(i+1, time()-t1))"
   ]
  },
  {
   "cell_type": "code",
   "execution_count": 4,
   "metadata": {},
   "outputs": [],
   "source": [
    "x_train_dtcwt = np.array(x_train_dtcwt)\n",
    "x_train_dtcwt = x_train_dtcwt.reshape(len_train_set, 127, -1, 3)\n",
    "del x_train\n",
    "del x_test\n",
    "del y_test"
   ]
  },
  {
   "cell_type": "code",
   "execution_count": 5,
   "metadata": {},
   "outputs": [
    {
     "data": {
      "text/plain": [
       "(2000, 127, 16, 3)"
      ]
     },
     "execution_count": 5,
     "metadata": {},
     "output_type": "execute_result"
    }
   ],
   "source": [
    "x_train_dtcwt.shape"
   ]
  },
  {
   "cell_type": "code",
   "execution_count": null,
   "metadata": {},
   "outputs": [
    {
     "name": "stdout",
     "output_type": "stream",
     "text": [
      "Train on 1800 samples, validate on 200 samples\n",
      "Epoch 1/50\n",
      "1800/1800 [==============================] - 13s 7ms/sample - loss: 9.5720 - accuracy: 0.1294 - val_loss: 15.6002 - val_accuracy: 0.0950\n"
     ]
    }
   ],
   "source": [
    "from models.convs import wmodel\n",
    "t1 = time()\n",
    "history = wmodel.fit(x_train_dtcwt, y_train, epochs=50, verbose=1, batch_size=250, validation_split=0.1)\n",
    "print('Training time : {} seconds'.format(time()-t1))"
   ]
  }
 ],
 "metadata": {
  "kernelspec": {
   "display_name": "Python 3",
   "language": "python",
   "name": "python3"
  },
  "language_info": {
   "codemirror_mode": {
    "name": "ipython",
    "version": 3
   },
   "file_extension": ".py",
   "mimetype": "text/x-python",
   "name": "python",
   "nbconvert_exporter": "python",
   "pygments_lexer": "ipython3",
   "version": "3.6.9"
  }
 },
 "nbformat": 4,
 "nbformat_minor": 2
}
