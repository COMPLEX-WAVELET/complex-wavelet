{
 "cells": [
  {
   "cell_type": "code",
   "execution_count": 1,
   "metadata": {},
   "outputs": [
    {
     "name": "stderr",
     "output_type": "stream",
     "text": [
      "Using TensorFlow backend.\n"
     ]
    }
   ],
   "source": [
    "from keras.datasets import cifar10\n",
    "from keras.utils import np_utils\n",
    "\n",
    "import numpy as np\n",
    "import matplotlib.pyplot as plt\n",
    "\n",
    "from models.convs import model\n",
    "from time import time"
   ]
  },
  {
   "cell_type": "markdown",
   "metadata": {},
   "source": [
    "https://appliedmachinelearning.blog/2018/03/24/achieving-90-accuracy-in-object-recognition-task-on-cifar-10-dataset-with-keras-convolutional-neural-networks/"
   ]
  },
  {
   "cell_type": "code",
   "execution_count": 2,
   "metadata": {},
   "outputs": [],
   "source": [
    "len_test_set=1000\n",
    "len_train_set=2000\n",
    "\n",
    "(x_train, label_train), (x_test, label_test) = cifar10.load_data()\n",
    "\n",
    "x_train = x_train[:len_train_set]\n",
    "x_test = x_test[:len_test_set]\n",
    "\n",
    "y_train=np_utils.to_categorical(label_train[:len_train_set],10)\n",
    "y_test=np_utils.to_categorical(label_test[:len_test_set],10)"
   ]
  },
  {
   "cell_type": "code",
   "execution_count": 3,
   "metadata": {},
   "outputs": [
    {
     "data": {
      "text/plain": [
       "<matplotlib.image.AxesImage at 0x7f722c5acf60>"
      ]
     },
     "execution_count": 3,
     "metadata": {},
     "output_type": "execute_result"
    },
    {
     "data": {
      "image/png": "[encoded data removed]",
      "text/plain": [
       "<Figure size 432x288 with 1 Axes>"
      ]
     },
     "metadata": {
      "needs_background": "light"
     },
     "output_type": "display_data"
    }
   ],
   "source": [
    "plt.imshow(x_train[3])"
   ]
  },
  {
   "cell_type": "code",
   "execution_count": 4,
   "metadata": {},
   "outputs": [
    {
     "name": "stdout",
     "output_type": "stream",
     "text": [
      "Model: \"sequential\"\n",
      "_________________________________________________________________\n",
      "Layer (type)                 Output Shape              Param #   \n",
      "=================================================================\n",
      "conv2d (Conv2D)              (None, 32, 32, 32)        896       \n",
      "_________________________________________________________________\n",
      "activation (Activation)      (None, 32, 32, 32)        0         \n",
      "_________________________________________________________________\n",
      "batch_normalization (BatchNo (None, 32, 32, 32)        128       \n",
      "_________________________________________________________________\n",
      "conv2d_1 (Conv2D)            (None, 32, 32, 32)        9248      \n",
      "_________________________________________________________________\n",
      "activation_1 (Activation)    (None, 32, 32, 32)        0         \n",
      "_________________________________________________________________\n",
      "batch_normalization_1 (Batch (None, 32, 32, 32)        128       \n",
      "_________________________________________________________________\n",
      "max_pooling2d (MaxPooling2D) (None, 16, 16, 32)        0         \n",
      "_________________________________________________________________\n",
      "dropout (Dropout)            (None, 16, 16, 32)        0         \n",
      "_________________________________________________________________\n",
      "conv2d_2 (Conv2D)            (None, 16, 16, 64)        18496     \n",
      "_________________________________________________________________\n",
      "activation_2 (Activation)    (None, 16, 16, 64)        0         \n",
      "_________________________________________________________________\n",
      "batch_normalization_2 (Batch (None, 16, 16, 64)        256       \n",
      "_________________________________________________________________\n",
      "conv2d_3 (Conv2D)            (None, 16, 16, 64)        36928     \n",
      "_________________________________________________________________\n",
      "activation_3 (Activation)    (None, 16, 16, 64)        0         \n",
      "_________________________________________________________________\n",
      "batch_normalization_3 (Batch (None, 16, 16, 64)        256       \n",
      "_________________________________________________________________\n",
      "max_pooling2d_1 (MaxPooling2 (None, 8, 8, 64)          0         \n",
      "_________________________________________________________________\n",
      "dropout_1 (Dropout)          (None, 8, 8, 64)          0         \n",
      "_________________________________________________________________\n",
      "conv2d_4 (Conv2D)            (None, 8, 8, 128)         73856     \n",
      "_________________________________________________________________\n",
      "activation_4 (Activation)    (None, 8, 8, 128)         0         \n",
      "_________________________________________________________________\n",
      "batch_normalization_4 (Batch (None, 8, 8, 128)         512       \n",
      "_________________________________________________________________\n",
      "conv2d_5 (Conv2D)            (None, 8, 8, 128)         147584    \n",
      "_________________________________________________________________\n",
      "activation_5 (Activation)    (None, 8, 8, 128)         0         \n",
      "_________________________________________________________________\n",
      "batch_normalization_5 (Batch (None, 8, 8, 128)         512       \n",
      "_________________________________________________________________\n",
      "max_pooling2d_2 (MaxPooling2 (None, 4, 4, 128)         0         \n",
      "_________________________________________________________________\n",
      "dropout_2 (Dropout)          (None, 4, 4, 128)         0         \n",
      "_________________________________________________________________\n",
      "flatten (Flatten)            (None, 2048)              0         \n",
      "_________________________________________________________________\n",
      "dense (Dense)                (None, 10)                20490     \n",
      "=================================================================\n",
      "Total params: 309,290\n",
      "Trainable params: 308,394\n",
      "Non-trainable params: 896\n",
      "_________________________________________________________________\n"
     ]
    }
   ],
   "source": [
    "model.summary()"
   ]
  },
  {
   "cell_type": "code",
   "execution_count": 5,
   "metadata": {},
   "outputs": [
    {
     "name": "stdout",
     "output_type": "stream",
     "text": [
      "Train on 1800 samples, validate on 200 samples\n",
      "Epoch 1/100\n",
      "1800/1800 [==============================] - 6s 3ms/sample - loss: 4.1530 - accuracy: 0.2233 - val_loss: 12.8094 - val_accuracy: 0.0650\n",
      "Epoch 2/100\n",
      "1800/1800 [==============================] - 5s 3ms/sample - loss: 2.4112 - accuracy: 0.3039 - val_loss: 7.8871 - val_accuracy: 0.0950\n",
      "Epoch 3/100\n",
      "1800/1800 [==============================] - 5s 3ms/sample - loss: 2.2064 - accuracy: 0.3511 - val_loss: 11.8150 - val_accuracy: 0.0550\n",
      "Epoch 4/100\n",
      "1800/1800 [==============================] - 5s 3ms/sample - loss: 1.9557 - accuracy: 0.3928 - val_loss: 4.5656 - val_accuracy: 0.3100\n",
      "Epoch 5/100\n",
      "1800/1800 [==============================] - 5s 3ms/sample - loss: 1.8471 - accuracy: 0.4039 - val_loss: 9.4676 - val_accuracy: 0.0400\n",
      "Epoch 6/100\n",
      "1800/1800 [==============================] - 5s 3ms/sample - loss: 1.8215 - accuracy: 0.4233 - val_loss: 7.2773 - val_accuracy: 0.0550\n",
      "Epoch 7/100\n",
      "1800/1800 [==============================] - 5s 3ms/sample - loss: 1.6465 - accuracy: 0.4483 - val_loss: 3.0196 - val_accuracy: 0.3000\n",
      "Epoch 8/100\n",
      "1800/1800 [==============================] - 5s 3ms/sample - loss: 1.6173 - accuracy: 0.4728 - val_loss: 7.4498 - val_accuracy: 0.1100\n",
      "Epoch 9/100\n",
      "1800/1800 [==============================] - 5s 3ms/sample - loss: 1.5589 - accuracy: 0.4961 - val_loss: 2.7026 - val_accuracy: 0.2750\n",
      "Epoch 10/100\n",
      "1800/1800 [==============================] - 5s 3ms/sample - loss: 1.4327 - accuracy: 0.5267 - val_loss: 4.1842 - val_accuracy: 0.2700\n",
      "Epoch 11/100\n",
      "1800/1800 [==============================] - 5s 3ms/sample - loss: 1.4020 - accuracy: 0.5517 - val_loss: 3.7445 - val_accuracy: 0.2500\n",
      "Epoch 12/100\n",
      "1800/1800 [==============================] - 5s 3ms/sample - loss: 1.2524 - accuracy: 0.5544 - val_loss: 2.2910 - val_accuracy: 0.3450\n",
      "Epoch 13/100\n",
      "1800/1800 [==============================] - 5s 3ms/sample - loss: 1.2789 - accuracy: 0.5889 - val_loss: 3.0712 - val_accuracy: 0.3000\n",
      "Epoch 14/100\n",
      "1800/1800 [==============================] - 5s 3ms/sample - loss: 1.2369 - accuracy: 0.5856 - val_loss: 2.8040 - val_accuracy: 0.3500\n",
      "Epoch 15/100\n",
      "1800/1800 [==============================] - 5s 3ms/sample - loss: 1.1384 - accuracy: 0.6000 - val_loss: 3.4615 - val_accuracy: 0.2950\n",
      "Epoch 16/100\n",
      "1800/1800 [==============================] - 5s 3ms/sample - loss: 1.0733 - accuracy: 0.6322 - val_loss: 2.1381 - val_accuracy: 0.4050\n",
      "Epoch 17/100\n",
      "1800/1800 [==============================] - 5s 3ms/sample - loss: 1.0818 - accuracy: 0.6456 - val_loss: 2.2333 - val_accuracy: 0.3800\n",
      "Epoch 18/100\n",
      "1800/1800 [==============================] - 5s 3ms/sample - loss: 0.9771 - accuracy: 0.6822 - val_loss: 2.0638 - val_accuracy: 0.4350\n",
      "Epoch 19/100\n",
      "1800/1800 [==============================] - 5s 3ms/sample - loss: 0.9495 - accuracy: 0.6767 - val_loss: 2.2639 - val_accuracy: 0.4400\n",
      "Epoch 20/100\n",
      "1800/1800 [==============================] - 5s 3ms/sample - loss: 0.8907 - accuracy: 0.6956 - val_loss: 1.8348 - val_accuracy: 0.4300\n",
      "Epoch 21/100\n",
      "1800/1800 [==============================] - 5s 3ms/sample - loss: 0.8755 - accuracy: 0.7011 - val_loss: 2.1331 - val_accuracy: 0.4300\n",
      "Epoch 22/100\n",
      "1800/1800 [==============================] - 5s 3ms/sample - loss: 0.9316 - accuracy: 0.6983 - val_loss: 1.8496 - val_accuracy: 0.5000\n",
      "Epoch 23/100\n",
      "1800/1800 [==============================] - 5s 3ms/sample - loss: 0.7314 - accuracy: 0.7489 - val_loss: 2.4210 - val_accuracy: 0.4250\n",
      "Epoch 24/100\n",
      "1800/1800 [==============================] - 5s 3ms/sample - loss: 0.7892 - accuracy: 0.7311 - val_loss: 1.7709 - val_accuracy: 0.4650\n",
      "Epoch 25/100\n",
      "1800/1800 [==============================] - 5s 3ms/sample - loss: 0.7226 - accuracy: 0.7583 - val_loss: 2.6202 - val_accuracy: 0.3400\n",
      "Epoch 26/100\n",
      "1800/1800 [==============================] - 5s 3ms/sample - loss: 0.7384 - accuracy: 0.7717 - val_loss: 1.6552 - val_accuracy: 0.5050\n",
      "Epoch 27/100\n",
      "1800/1800 [==============================] - 5s 3ms/sample - loss: 0.5703 - accuracy: 0.8022 - val_loss: 1.8529 - val_accuracy: 0.4900\n",
      "Epoch 28/100\n",
      "1800/1800 [==============================] - 5s 3ms/sample - loss: 0.5772 - accuracy: 0.7828 - val_loss: 1.6812 - val_accuracy: 0.5450\n",
      "Epoch 29/100\n",
      "1800/1800 [==============================] - 5s 3ms/sample - loss: 0.5759 - accuracy: 0.8000 - val_loss: 1.8543 - val_accuracy: 0.4700\n",
      "Epoch 30/100\n",
      "1800/1800 [==============================] - 5s 3ms/sample - loss: 0.5437 - accuracy: 0.8106 - val_loss: 1.4512 - val_accuracy: 0.5300\n",
      "Epoch 31/100\n",
      "1800/1800 [==============================] - 5s 3ms/sample - loss: 0.4685 - accuracy: 0.8367 - val_loss: 1.5644 - val_accuracy: 0.4750\n",
      "Epoch 32/100\n",
      "1800/1800 [==============================] - 5s 3ms/sample - loss: 0.4636 - accuracy: 0.8378 - val_loss: 1.7665 - val_accuracy: 0.5150\n",
      "Epoch 33/100\n",
      "1800/1800 [==============================] - 5s 3ms/sample - loss: 0.5029 - accuracy: 0.8228 - val_loss: 1.6593 - val_accuracy: 0.4800\n",
      "Epoch 34/100\n",
      "1800/1800 [==============================] - 5s 3ms/sample - loss: 0.3854 - accuracy: 0.8683 - val_loss: 1.6673 - val_accuracy: 0.5100\n",
      "Epoch 35/100\n",
      "1800/1800 [==============================] - 5s 3ms/sample - loss: 0.3785 - accuracy: 0.8694 - val_loss: 1.5862 - val_accuracy: 0.5150\n",
      "Epoch 36/100\n",
      "1800/1800 [==============================] - 5s 3ms/sample - loss: 0.4931 - accuracy: 0.8411 - val_loss: 1.7595 - val_accuracy: 0.4850\n",
      "Epoch 37/100\n",
      "1800/1800 [==============================] - 5s 3ms/sample - loss: 0.3915 - accuracy: 0.8622 - val_loss: 1.9599 - val_accuracy: 0.4900\n",
      "Epoch 38/100\n",
      "1800/1800 [==============================] - 5s 3ms/sample - loss: 0.3237 - accuracy: 0.8767 - val_loss: 1.8369 - val_accuracy: 0.4800\n",
      "Epoch 39/100\n",
      "1800/1800 [==============================] - 5s 3ms/sample - loss: 0.3102 - accuracy: 0.8917 - val_loss: 1.7111 - val_accuracy: 0.5150\n",
      "Epoch 40/100\n",
      "1800/1800 [==============================] - 5s 3ms/sample - loss: 0.3666 - accuracy: 0.8711 - val_loss: 1.4469 - val_accuracy: 0.5650\n",
      "Epoch 41/100\n",
      "1800/1800 [==============================] - 5s 3ms/sample - loss: 0.2744 - accuracy: 0.9067 - val_loss: 2.5296 - val_accuracy: 0.4450\n",
      "Epoch 42/100\n",
      "1800/1800 [==============================] - 5s 3ms/sample - loss: 0.3030 - accuracy: 0.8883 - val_loss: 1.7809 - val_accuracy: 0.5150\n",
      "Epoch 43/100\n",
      "1800/1800 [==============================] - 5s 3ms/sample - loss: 0.2521 - accuracy: 0.9100 - val_loss: 2.0060 - val_accuracy: 0.4500\n",
      "Epoch 44/100\n",
      "1800/1800 [==============================] - 5s 3ms/sample - loss: 0.2704 - accuracy: 0.9061 - val_loss: 1.7392 - val_accuracy: 0.5150\n",
      "Epoch 45/100\n",
      "1800/1800 [==============================] - 5s 3ms/sample - loss: 0.1912 - accuracy: 0.9372 - val_loss: 1.5126 - val_accuracy: 0.5700\n",
      "Epoch 46/100\n",
      "1800/1800 [==============================] - 5s 3ms/sample - loss: 0.2504 - accuracy: 0.9183 - val_loss: 1.7596 - val_accuracy: 0.5650\n",
      "Epoch 47/100\n",
      "1800/1800 [==============================] - 5s 3ms/sample - loss: 0.2057 - accuracy: 0.9289 - val_loss: 1.7760 - val_accuracy: 0.5250\n",
      "Epoch 48/100\n",
      "1800/1800 [==============================] - 6s 3ms/sample - loss: 0.2886 - accuracy: 0.9111 - val_loss: 1.7752 - val_accuracy: 0.5400\n",
      "Epoch 49/100\n",
      "1800/1800 [==============================] - 6s 3ms/sample - loss: 0.2014 - accuracy: 0.9317 - val_loss: 1.6736 - val_accuracy: 0.5700\n",
      "Epoch 50/100\n",
      "1800/1800 [==============================] - 6s 3ms/sample - loss: 0.1980 - accuracy: 0.9267 - val_loss: 1.7734 - val_accuracy: 0.5650\n",
      "Epoch 51/100\n",
      "1800/1800 [==============================] - 6s 3ms/sample - loss: 0.1657 - accuracy: 0.9439 - val_loss: 1.7478 - val_accuracy: 0.5750\n",
      "Epoch 52/100\n",
      "1800/1800 [==============================] - 6s 3ms/sample - loss: 0.2151 - accuracy: 0.9278 - val_loss: 2.2131 - val_accuracy: 0.4850\n",
      "Epoch 53/100\n",
      "1800/1800 [==============================] - 6s 3ms/sample - loss: 0.2131 - accuracy: 0.9244 - val_loss: 1.9416 - val_accuracy: 0.5450\n",
      "Epoch 54/100\n",
      "1800/1800 [==============================] - 6s 3ms/sample - loss: 0.1451 - accuracy: 0.9511 - val_loss: 1.7232 - val_accuracy: 0.5500\n",
      "Epoch 55/100\n",
      "1800/1800 [==============================] - 6s 3ms/sample - loss: 0.1263 - accuracy: 0.9578 - val_loss: 1.6239 - val_accuracy: 0.5700\n",
      "Epoch 56/100\n"
     ]
    },
    {
     "name": "stdout",
     "output_type": "stream",
     "text": [
      "1800/1800 [==============================] - 5s 3ms/sample - loss: 0.1665 - accuracy: 0.9406 - val_loss: 1.9489 - val_accuracy: 0.5200\n",
      "Epoch 57/100\n",
      "1800/1800 [==============================] - 6s 3ms/sample - loss: 0.1592 - accuracy: 0.9478 - val_loss: 1.8854 - val_accuracy: 0.5200\n",
      "Epoch 58/100\n",
      "1800/1800 [==============================] - 6s 3ms/sample - loss: 0.1215 - accuracy: 0.9617 - val_loss: 2.4422 - val_accuracy: 0.5050\n",
      "Epoch 59/100\n",
      "1800/1800 [==============================] - 5s 3ms/sample - loss: 0.1965 - accuracy: 0.9361 - val_loss: 2.2048 - val_accuracy: 0.5050\n",
      "Epoch 60/100\n",
      "1800/1800 [==============================] - 6s 3ms/sample - loss: 0.1351 - accuracy: 0.9578 - val_loss: 1.9073 - val_accuracy: 0.5600\n",
      "Epoch 61/100\n",
      "1800/1800 [==============================] - 6s 3ms/sample - loss: 0.1132 - accuracy: 0.9633 - val_loss: 2.1042 - val_accuracy: 0.6100\n",
      "Epoch 62/100\n",
      "1800/1800 [==============================] - 6s 3ms/sample - loss: 0.1480 - accuracy: 0.9478 - val_loss: 2.1369 - val_accuracy: 0.5300\n",
      "Epoch 63/100\n",
      "1800/1800 [==============================] - 6s 3ms/sample - loss: 0.0949 - accuracy: 0.9694 - val_loss: 2.0667 - val_accuracy: 0.5400\n",
      "Epoch 64/100\n",
      "1800/1800 [==============================] - 6s 3ms/sample - loss: 0.1120 - accuracy: 0.9694 - val_loss: 1.9468 - val_accuracy: 0.5750\n",
      "Epoch 65/100\n",
      "1800/1800 [==============================] - 6s 3ms/sample - loss: 0.1086 - accuracy: 0.9644 - val_loss: 1.7432 - val_accuracy: 0.5400\n",
      "Epoch 66/100\n",
      "1800/1800 [==============================] - 6s 3ms/sample - loss: 0.0911 - accuracy: 0.9672 - val_loss: 1.7740 - val_accuracy: 0.5800\n",
      "Epoch 67/100\n",
      "1800/1800 [==============================] - 6s 3ms/sample - loss: 0.0849 - accuracy: 0.9722 - val_loss: 2.1980 - val_accuracy: 0.5200\n",
      "Epoch 68/100\n",
      "1800/1800 [==============================] - 6s 3ms/sample - loss: 0.1278 - accuracy: 0.9550 - val_loss: 2.3590 - val_accuracy: 0.5400\n",
      "Epoch 69/100\n",
      "1800/1800 [==============================] - 6s 3ms/sample - loss: 0.1327 - accuracy: 0.9578 - val_loss: 1.8550 - val_accuracy: 0.5900\n",
      "Epoch 70/100\n",
      "1800/1800 [==============================] - 6s 3ms/sample - loss: 0.0856 - accuracy: 0.9717 - val_loss: 1.7869 - val_accuracy: 0.5750\n",
      "Epoch 71/100\n",
      "1800/1800 [==============================] - 6s 3ms/sample - loss: 0.1084 - accuracy: 0.9661 - val_loss: 2.1301 - val_accuracy: 0.5500\n",
      "Epoch 72/100\n",
      "1800/1800 [==============================] - 6s 3ms/sample - loss: 0.0883 - accuracy: 0.9683 - val_loss: 2.4192 - val_accuracy: 0.5150\n",
      "Epoch 73/100\n",
      "1800/1800 [==============================] - 6s 3ms/sample - loss: 0.1127 - accuracy: 0.9600 - val_loss: 1.8406 - val_accuracy: 0.6200\n",
      "Epoch 74/100\n",
      "1800/1800 [==============================] - 6s 3ms/sample - loss: 0.0800 - accuracy: 0.9728 - val_loss: 2.0178 - val_accuracy: 0.5550\n",
      "Epoch 75/100\n",
      "1800/1800 [==============================] - 6s 3ms/sample - loss: 0.0832 - accuracy: 0.9761 - val_loss: 1.9456 - val_accuracy: 0.5950\n",
      "Epoch 76/100\n",
      "1800/1800 [==============================] - 6s 3ms/sample - loss: 0.1277 - accuracy: 0.9578 - val_loss: 2.6226 - val_accuracy: 0.5850\n",
      "Epoch 77/100\n",
      "1800/1800 [==============================] - 6s 3ms/sample - loss: 0.0829 - accuracy: 0.9722 - val_loss: 1.9848 - val_accuracy: 0.5950\n",
      "Epoch 78/100\n",
      "1800/1800 [==============================] - 6s 3ms/sample - loss: 0.0631 - accuracy: 0.9833 - val_loss: 2.1756 - val_accuracy: 0.5550\n",
      "Epoch 79/100\n",
      "1800/1800 [==============================] - 6s 3ms/sample - loss: 0.0748 - accuracy: 0.9717 - val_loss: 2.4064 - val_accuracy: 0.5450\n",
      "Epoch 80/100\n",
      "1800/1800 [==============================] - 6s 3ms/sample - loss: 0.0602 - accuracy: 0.9806 - val_loss: 2.0441 - val_accuracy: 0.5550\n",
      "Epoch 81/100\n",
      "1800/1800 [==============================] - 6s 3ms/sample - loss: 0.0511 - accuracy: 0.9856 - val_loss: 2.5421 - val_accuracy: 0.5300\n",
      "Epoch 82/100\n",
      "1800/1800 [==============================] - 6s 3ms/sample - loss: 0.0960 - accuracy: 0.9667 - val_loss: 1.9375 - val_accuracy: 0.6200\n",
      "Epoch 83/100\n",
      "1800/1800 [==============================] - 6s 3ms/sample - loss: 0.0448 - accuracy: 0.9850 - val_loss: 2.1632 - val_accuracy: 0.5200\n",
      "Epoch 84/100\n",
      "1800/1800 [==============================] - 6s 3ms/sample - loss: 0.0540 - accuracy: 0.9822 - val_loss: 1.9507 - val_accuracy: 0.5750\n",
      "Epoch 85/100\n",
      "1800/1800 [==============================] - 6s 3ms/sample - loss: 0.0708 - accuracy: 0.9789 - val_loss: 2.4326 - val_accuracy: 0.5300\n",
      "Epoch 86/100\n",
      "1800/1800 [==============================] - 6s 3ms/sample - loss: 0.0551 - accuracy: 0.9806 - val_loss: 1.8742 - val_accuracy: 0.6150\n",
      "Epoch 87/100\n",
      "1800/1800 [==============================] - 5s 3ms/sample - loss: 0.0574 - accuracy: 0.9811 - val_loss: 2.4508 - val_accuracy: 0.5700\n",
      "Epoch 88/100\n",
      "1800/1800 [==============================] - 6s 3ms/sample - loss: 0.0795 - accuracy: 0.9700 - val_loss: 2.2033 - val_accuracy: 0.5550\n",
      "Epoch 89/100\n",
      "1800/1800 [==============================] - 6s 3ms/sample - loss: 0.0484 - accuracy: 0.9844 - val_loss: 2.2264 - val_accuracy: 0.5650\n",
      "Epoch 90/100\n",
      "1800/1800 [==============================] - 6s 3ms/sample - loss: 0.0508 - accuracy: 0.9839 - val_loss: 2.5905 - val_accuracy: 0.5400\n",
      "Epoch 91/100\n",
      "1800/1800 [==============================] - 6s 3ms/sample - loss: 0.0628 - accuracy: 0.9750 - val_loss: 2.9774 - val_accuracy: 0.5000\n",
      "Epoch 92/100\n",
      "1800/1800 [==============================] - 6s 3ms/sample - loss: 0.0807 - accuracy: 0.9750 - val_loss: 2.2697 - val_accuracy: 0.5450\n",
      "Epoch 93/100\n",
      "1800/1800 [==============================] - 6s 3ms/sample - loss: 0.0450 - accuracy: 0.9856 - val_loss: 1.9987 - val_accuracy: 0.5950\n",
      "Epoch 94/100\n",
      "1800/1800 [==============================] - 5s 3ms/sample - loss: 0.0434 - accuracy: 0.9850 - val_loss: 1.9327 - val_accuracy: 0.6250\n",
      "Epoch 95/100\n",
      "1800/1800 [==============================] - 6s 3ms/sample - loss: 0.0388 - accuracy: 0.9861 - val_loss: 2.6171 - val_accuracy: 0.5350\n",
      "Epoch 96/100\n",
      "1800/1800 [==============================] - 6s 3ms/sample - loss: 0.0813 - accuracy: 0.9706 - val_loss: 2.6820 - val_accuracy: 0.5200\n",
      "Epoch 97/100\n",
      "1800/1800 [==============================] - 6s 3ms/sample - loss: 0.0606 - accuracy: 0.9767 - val_loss: 2.1475 - val_accuracy: 0.5500\n",
      "Epoch 98/100\n",
      "1800/1800 [==============================] - 6s 3ms/sample - loss: 0.0509 - accuracy: 0.9844 - val_loss: 2.2082 - val_accuracy: 0.5750\n",
      "Epoch 99/100\n",
      "1800/1800 [==============================] - 6s 3ms/sample - loss: 0.0414 - accuracy: 0.9833 - val_loss: 2.7583 - val_accuracy: 0.5250\n",
      "Epoch 100/100\n",
      "1800/1800 [==============================] - 6s 3ms/sample - loss: 0.0427 - accuracy: 0.9867 - val_loss: 3.0926 - val_accuracy: 0.5100\n",
      "Training time : 540.3296294212341 seconds\n"
     ]
    }
   ],
   "source": [
    "t1 = time()\n",
    "history = model.fit(x_train, y_train, epochs=100, verbose=1, batch_size=250, validation_split=0.1)\n",
    "print('Training time : {} seconds'.format(time()-t1))"
   ]
  },
  {
   "cell_type": "code",
   "execution_count": 6,
   "metadata": {},
   "outputs": [
    {
     "ename": "AttributeError",
     "evalue": "module 'matplotlib.pyplot' has no attribute 'save'",
     "output_type": "error",
     "traceback": [
      "\u001b[0;31m---------------------------------------------------------------------------\u001b[0m",
      "\u001b[0;31mAttributeError\u001b[0m                            Traceback (most recent call last)",
      "\u001b[0;32m<ipython-input-6-cdb55f52c856>\u001b[0m in \u001b[0;36m<module>\u001b[0;34m\u001b[0m\n\u001b[1;32m      6\u001b[0m \u001b[0mplt\u001b[0m\u001b[0;34m.\u001b[0m\u001b[0mplot\u001b[0m\u001b[0;34m(\u001b[0m\u001b[0mepochs\u001b[0m\u001b[0;34m,\u001b[0m \u001b[0mhistory\u001b[0m\u001b[0;34m[\u001b[0m\u001b[0;34m'val_accuracy'\u001b[0m\u001b[0;34m]\u001b[0m\u001b[0;34m,\u001b[0m \u001b[0;34m'b'\u001b[0m\u001b[0;34m,\u001b[0m \u001b[0mlabel\u001b[0m\u001b[0;34m=\u001b[0m\u001b[0;34m'Validation accuracy'\u001b[0m\u001b[0;34m)\u001b[0m\u001b[0;34m\u001b[0m\u001b[0;34m\u001b[0m\u001b[0m\n\u001b[1;32m      7\u001b[0m \u001b[0mplt\u001b[0m\u001b[0;34m.\u001b[0m\u001b[0mlegend\u001b[0m\u001b[0;34m(\u001b[0m\u001b[0;34m)\u001b[0m\u001b[0;34m\u001b[0m\u001b[0;34m\u001b[0m\u001b[0m\n\u001b[0;32m----> 8\u001b[0;31m \u001b[0mplt\u001b[0m\u001b[0;34m.\u001b[0m\u001b[0msave\u001b[0m\u001b[0;34m(\u001b[0m\u001b[0;34m'acc_conv_2000.png'\u001b[0m\u001b[0;34m)\u001b[0m\u001b[0;34m\u001b[0m\u001b[0;34m\u001b[0m\u001b[0m\n\u001b[0m\u001b[1;32m      9\u001b[0m \u001b[0mplt\u001b[0m\u001b[0;34m.\u001b[0m\u001b[0mshow\u001b[0m\u001b[0;34m(\u001b[0m\u001b[0;34m)\u001b[0m\u001b[0;34m\u001b[0m\u001b[0;34m\u001b[0m\u001b[0m\n",
      "\u001b[0;31mAttributeError\u001b[0m: module 'matplotlib.pyplot' has no attribute 'save'"
     ]
    },
    {
     "data": {
      "image/png": "[encoded data removed]",
      "text/plain": [
       "<Figure size 432x288 with 1 Axes>"
      ]
     },
     "metadata": {
      "needs_background": "light"
     },
     "output_type": "display_data"
    }
   ],
   "source": [
    "history = history.history\n",
    "\n",
    "epochs = range(1, 101)\n",
    "\n",
    "plt.plot(epochs, history['accuracy'], 'bo', label='Training accuracy')\n",
    "plt.plot(epochs, history['val_accuracy'], 'b', label='Validation accuracy')\n",
    "plt.legend()\n",
    "plt.save('acc_conv_2000.png')\n",
    "plt.show()"
   ]
  },
  {
   "cell_type": "code",
   "execution_count": null,
   "metadata": {},
   "outputs": [],
   "source": [
    "plt.plot(epochs, history['loss'], 'ro', label='Training loss')\n",
    "plt.plot(epochs, history['val_loss'], 'r', label='Validation loss')\n",
    "plt.legend()\n",
    "plt.save('loss_conv_2000.png')\n",
    "plt.show()"
   ]
  }
 ],
 "metadata": {
  "kernelspec": {
   "display_name": "Python 3",
   "language": "python",
   "name": "python3"
  },
  "language_info": {
   "codemirror_mode": {
    "name": "ipython",
    "version": 3
   },
   "file_extension": ".py",
   "mimetype": "text/x-python",
   "name": "python",
   "nbconvert_exporter": "python",
   "pygments_lexer": "ipython3",
   "version": "3.6.9"
  }
 },
 "nbformat": 4,
 "nbformat_minor": 2
}
