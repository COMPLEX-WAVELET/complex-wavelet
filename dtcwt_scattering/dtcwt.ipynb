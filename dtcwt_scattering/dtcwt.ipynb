{
 "cells": [
  {
   "cell_type": "code",
   "execution_count": 1,
   "metadata": {
    "colab": {
     "base_uri": "https://localhost:8080/",
     "height": 285
    },
    "colab_type": "code",
    "id": "Imtwi7pk1iwf",
    "outputId": "12f191d1-9864-47b0-ba7f-8869ee1feed5"
   },
   "outputs": [
    {
     "name": "stdout",
     "output_type": "stream",
     "text": [
      "<class 'PIL.JpegImagePlugin.JpegImageFile'>\n"
     ]
    },
    {
     "data": {
      "text/plain": [
       "<matplotlib.image.AxesImage at 0x20c984db908>"
      ]
     },
     "execution_count": 1,
     "metadata": {},
     "output_type": "execute_result"
    },
    {
     "data": {
      "image/png": "[encoded data removed]",
      "text/plain": [
       "<Figure size 432x288 with 1 Axes>"
      ]
     },
     "metadata": {
      "needs_background": "light"
     },
     "output_type": "display_data"
    }
   ],
   "source": [
    "from numpy import *\n",
    "# Load the mandrill image\n",
    "from PIL import Image\n",
    "mandrill = Image.open('../images/bear.jpg')\n",
    "print(type(mandrill))\n",
    "mandrill=mandrill.convert('L')\n",
    "\n",
    "mandrill = mandrill.resize((64,64))\n",
    "mandrill = asarray( mandrill )\n",
    "\n",
    "# Show mandrill\n",
    "from matplotlib.pyplot import *\n",
    "figure(1)\n",
    "imshow(mandrill)"
   ]
  },
  {
   "cell_type": "code",
   "execution_count": 4,
   "metadata": {
    "colab": {
     "base_uri": "https://localhost:8080/",
     "height": 306
    },
    "colab_type": "code",
    "id": "58en8o-s16vF",
    "outputId": "ebc310da-e7f0-43d0-a25c-468e8c852cad"
   },
   "outputs": [
    {
     "name": "stdout",
     "output_type": "stream",
     "text": [
      "241\n"
     ]
    }
   ],
   "source": [
    "from dtcwt_scattering import DtcwtScattering2D\n",
    "\n",
    "scat = DtcwtScattering2D()\n",
    "coef = scat.transform(mandrill, 2)\n",
    "print(len(coef))"
   ]
  },
  {
   "cell_type": "code",
   "execution_count": null,
   "metadata": {},
   "outputs": [],
   "source": [
    "import numpy as np\n",
    "\n",
    "transform = dtcwt.Transform2d()\n",
    "\n",
    "def transform_image(image, m):\n",
    "    n = len(image)\n",
    "    J = int(log(n/4)/log(2)) + 1\n",
    "    \n",
    "    scat_coefficients = []\n",
    "    image_t = transform.forward(image, nlevels=J)\n",
    "    if n >= 4:\n",
    "        scat_coefficients.append(abs(image_t.lowpass))\n",
    "    \n",
    "    if m != 0:\n",
    "        for j in range(0, J):\n",
    "            highpass = image_t.highpasses[j]\n",
    "            for k in range(0, highpass.shape[2]):\n",
    "                im = highpass[:,:,k]\n",
    "                scat_coefficients = scat_coefficients + transform_image(im, m - 1)\n",
    "    return scat_coefficients"
   ]
  },
  {
   "cell_type": "code",
   "execution_count": null,
   "metadata": {
    "colab": {
     "base_uri": "https://localhost:8080/",
     "height": 34
    },
    "colab_type": "code",
    "id": "DGjn5xnH2Dwi",
    "outputId": "58c85f91-8d31-41cb-fd8c-bb90cde943ef"
   },
   "outputs": [],
   "source": [
    "transform = dtcwt.Transform2d()\n",
    "\n",
    "def layer(scattering_vector,image,m):\n",
    "  n=len(image)\n",
    "  J=int(log(n/4)/log(2))\n",
    "  image_t=transform.forward(image, nlevels=J+1)\n",
    "  if m<M:\n",
    "    for j in range(J):\n",
    "      for theta in range(image_t.highpasses[j].shape[2]):\n",
    "        scattering_vector=layer(scattering_vector,abs(image_t.highpasses[j][:,:,theta]),m+1)\n",
    "  return([image_t.lowpass]+scattering_vector)\n",
    "\n",
    "\n",
    "M=1\n",
    "scattering_vector=layer([],mandrill,0)\n",
    "print(len(scattering_vector))\n",
    "#1+6*4+6*36=241\n"
   ]
  },
  {
   "cell_type": "code",
   "execution_count": null,
   "metadata": {
    "colab": {
     "base_uri": "https://localhost:8080/",
     "height": 548
    },
    "colab_type": "code",
    "id": "pT1raNmZ_TQZ",
    "outputId": "20f4a6c8-2921-4814-807f-32413e6f9ca8"
   },
   "outputs": [],
   "source": [
    "scattering_vector=log(scattering_vector)"
   ]
  },
  {
   "cell_type": "code",
   "execution_count": null,
   "metadata": {},
   "outputs": [],
   "source": [
    "print(scattering_vector)"
   ]
  },
  {
   "cell_type": "code",
   "execution_count": null,
   "metadata": {
    "colab": {
     "base_uri": "https://localhost:8080/",
     "height": 51
    },
    "colab_type": "code",
    "id": "31YhWc46SzpK",
    "outputId": "dd21ecf0-5b21-43f6-bbfb-06e9a1257a6a"
   },
   "outputs": [],
   "source": [
    "feature_vector=[]\n",
    "for S in scattering_vector:\n",
    "  for i in S:\n",
    "    for j in i:\n",
    "      feature_vector=feature_vector+[j]\n",
    "\n",
    "feature_vector=np.array(feature_vector)\n",
    "n=len(feature_vector)"
   ]
  },
  {
   "cell_type": "code",
   "execution_count": null,
   "metadata": {
    "colab": {
     "base_uri": "https://localhost:8080/",
     "height": 206
    },
    "colab_type": "code",
    "id": "sr_shWi_W-fG",
    "outputId": "d045d11a-456b-409e-ab71-dde515027a8f"
   },
   "outputs": [],
   "source": [
    "from tensorflow.keras import *\n",
    "\n",
    "model_w = Sequential()\n",
    "model_w.add(layers.Dense(10, activation='linear', input_dim=n))\n",
    "print(model_w.summary())\n",
    "\n",
    "model_w.compile(optimizer='rmsprop',\n",
    "              loss='categorical_crossentropy',\n",
    "              metrics=['accuracy'])"
   ]
  },
  {
   "cell_type": "code",
   "execution_count": null,
   "metadata": {
    "colab": {
     "base_uri": "https://localhost:8080/",
     "height": 328
    },
    "colab_type": "code",
    "id": "VTJ7WQYOnkkN",
    "outputId": "82ac0bdb-4032-4b11-e538-96427a3ec724"
   },
   "outputs": [],
   "source": [
    "model_w.predict(feature_vector)"
   ]
  },
  {
   "cell_type": "code",
   "execution_count": null,
   "metadata": {},
   "outputs": [],
   "source": []
  }
 ],
 "metadata": {
  "colab": {
   "collapsed_sections": [],
   "name": "dtcwt.ipynb",
   "provenance": []
  },
  "kernelspec": {
   "display_name": "Python 3",
   "language": "python",
   "name": "python3"
  },
  "language_info": {
   "codemirror_mode": {
    "name": "ipython",
    "version": 3
   },
   "file_extension": ".py",
   "mimetype": "text/x-python",
   "name": "python",
   "nbconvert_exporter": "python",
   "pygments_lexer": "ipython3",
   "version": "3.7.3"
  }
 },
 "nbformat": 4,
 "nbformat_minor": 1
}
