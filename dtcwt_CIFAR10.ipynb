{
  "nbformat": 4,
  "nbformat_minor": 0,
  "metadata": {
    "colab": {
      "name": "dtcwt_CIFAR10",
      "provenance": [],
      "collapsed_sections": []
    },
    "kernelspec": {
      "name": "python3",
      "display_name": "Python 3"
    },
    "accelerator": "GPU"
  },
  "cells": [
    {
      "cell_type": "code",
      "metadata": {
        "id": "zubzUWg2kwGf",
        "colab_type": "code",
        "colab": {}
      },
      "source": [
        "from numpy import *\n",
        "# Load the mandrill image\n",
        "from PIL import Image\n",
        "from matplotlib.pyplot import *\n",
        "from keras.datasets import cifar10\n",
        "from keras.utils import np_utils\n",
        "import keras"
      ],
      "execution_count": 0,
      "outputs": []
    },
    {
      "cell_type": "markdown",
      "metadata": {
        "id": "scIsdF8NjzGs",
        "colab_type": "text"
      },
      "source": [
        "I load the data"
      ]
    },
    {
      "cell_type": "code",
      "metadata": {
        "id": "dH-dGplxk1yX",
        "colab_type": "code",
        "outputId": "e5615223-0e53-455c-dca5-c8c28520a0df",
        "colab": {
          "base_uri": "https://localhost:8080/",
          "height": 51
        }
      },
      "source": [
        "len_test_set=1000\n",
        "len_train_set=2000\n",
        "\n",
        "(x_train, label_train), (x_test, label_test) = cifar10.load_data()\n",
        "\n",
        "y_train=np_utils.to_categorical(label_train[:len_train_set],10)\n",
        "y_test=np_utils.to_categorical(label_test[:len_test_set],10)\n",
        "\n",
        "im_train=[]\n",
        "im_test=[]\n",
        "\n",
        "for im in x_train[:len_train_set]:\n",
        "  im_train =im_train+[asarray(Image.fromarray(im).convert('L'))]\n",
        "for im in x_test[:len_test_set]:\n",
        "  im_test =im_test+[asarray(Image.fromarray(im).convert('L'))]\n"
      ],
      "execution_count": 0,
      "outputs": [
        {
          "output_type": "stream",
          "text": [
            "Downloading data from https://www.cs.toronto.edu/~kriz/cifar-10-python.tar.gz\n",
            "170500096/170498071 [==============================] - 2s 0us/step\n"
          ],
          "name": "stdout"
        }
      ]
    },
    {
      "cell_type": "code",
      "metadata": {
        "id": "j1Lsnd6ZmDIa",
        "colab_type": "code",
        "outputId": "8961d37e-e4d6-4fd2-d77e-02e6abff54cd",
        "colab": {
          "base_uri": "https://localhost:8080/",
          "height": 283
        }
      },
      "source": [
        "imshow(im_train[2])"
      ],
      "execution_count": 0,
      "outputs": [
        {
          "output_type": "execute_result",
          "data": {
            "text/plain": [
              "<matplotlib.image.AxesImage at 0x7f7fa1061320>"
            ]
          },
          "metadata": {
            "tags": []
          },
          "execution_count": 3
        },
        {
          "output_type": "display_data",
          "data": {
            "image/png": "[encoded data removed]",
            "text/plain": [
              "<Figure size 432x288 with 1 Axes>"
            ]
          },
          "metadata": {
            "tags": []
          }
        }
      ]
    },
    {
      "cell_type": "code",
      "metadata": {
        "id": "wdBViIw1vCYA",
        "colab_type": "code",
        "outputId": "e3dfa1ab-38d4-481b-a4fb-9ee1bed739fb",
        "colab": {
          "base_uri": "https://localhost:8080/",
          "height": 245
        }
      },
      "source": [
        "!pip install dtcwt\n",
        "import dtcwt"
      ],
      "execution_count": 0,
      "outputs": [
        {
          "output_type": "stream",
          "text": [
            "Collecting dtcwt\n",
            "\u001b[?25l  Downloading https://files.pythonhosted.org/packages/2a/dd/cb52e5b1aebf6b59227f5acc0256426c730a81cfcac4c9ff2fd9f4a45b16/dtcwt-0.12.0.tar.gz (70kB)\n",
            "\r\u001b[K     |████▋                           | 10kB 18.0MB/s eta 0:00:01\r\u001b[K     |█████████▎                      | 20kB 2.2MB/s eta 0:00:01\r\u001b[K     |█████████████▉                  | 30kB 2.9MB/s eta 0:00:01\r\u001b[K     |██████████████████▌             | 40kB 2.1MB/s eta 0:00:01\r\u001b[K     |███████████████████████▏        | 51kB 2.4MB/s eta 0:00:01\r\u001b[K     |███████████████████████████▊    | 61kB 2.9MB/s eta 0:00:01\r\u001b[K     |████████████████████████████████| 71kB 2.6MB/s \n",
            "\u001b[?25hRequirement already satisfied: numpy in /usr/local/lib/python3.6/dist-packages (from dtcwt) (1.17.5)\n",
            "Requirement already satisfied: six in /usr/local/lib/python3.6/dist-packages (from dtcwt) (1.12.0)\n",
            "Building wheels for collected packages: dtcwt\n",
            "  Building wheel for dtcwt (setup.py) ... \u001b[?25l\u001b[?25hdone\n",
            "  Created wheel for dtcwt: filename=dtcwt-0.12.0-cp36-none-any.whl size=87884 sha256=4dd691a07e395f4de483b95157c96afb38b7a93da79392189d0bc613049ffa55\n",
            "  Stored in directory: /root/.cache/pip/wheels/af/50/10/5db3067e8d9829dc244808b67d0c0c6b9226756c923e785450\n",
            "Successfully built dtcwt\n",
            "Installing collected packages: dtcwt\n",
            "Successfully installed dtcwt-0.12.0\n"
          ],
          "name": "stdout"
        }
      ]
    },
    {
      "cell_type": "markdown",
      "metadata": {
        "id": "HXMLRQgRq26_",
        "colab_type": "text"
      },
      "source": [
        "Below is the scattering network using DTCWT:"
      ]
    },
    {
      "cell_type": "code",
      "metadata": {
        "id": "DGjn5xnH2Dwi",
        "colab_type": "code",
        "colab": {}
      },
      "source": [
        "transform = dtcwt.Transform2d()\n",
        "dtcwt.push_backend('tf')\n",
        "\n",
        "def scattering_network(scattering_vector,image,m):\n",
        "  n=len(image)\n",
        "  J=int(log(n/4)/log(2))\n",
        "  image_t=transform.forward(image, nlevels=J+1)\n",
        "  if n>4 and m<M:\n",
        "    for j in range(J):\n",
        "      for theta in range(image_t.highpasses[j].shape[2]):\n",
        "        scattering_vector=scattering_network(scattering_vector,abs(image_t.highpasses[j][:,:,theta]),m+1)\n",
        "  return([abs(image_t.lowpass)]+scattering_vector)\n",
        "\n"
      ],
      "execution_count": 0,
      "outputs": []
    },
    {
      "cell_type": "code",
      "metadata": {
        "id": "fA1WF2g5522H",
        "colab_type": "code",
        "colab": {}
      },
      "source": [
        "M=2\n",
        "scattering_vector_train=[]\n",
        "scattering_vector_test=[]\n",
        "\n",
        "for im in im_train:\n",
        "  scattering_vector_train=scattering_vector_train+[scattering_network([],im,0)]\n",
        "for im in im_test:\n",
        "  scattering_vector_test=scattering_vector_test+[scattering_network([],im,0)]"
      ],
      "execution_count": 0,
      "outputs": []
    },
    {
      "cell_type": "markdown",
      "metadata": {
        "id": "hbE112O9DQtc",
        "colab_type": "text"
      },
      "source": [
        "Here I flattened the scattering vector:"
      ]
    },
    {
      "cell_type": "code",
      "metadata": {
        "id": "31YhWc46SzpK",
        "colab_type": "code",
        "colab": {}
      },
      "source": [
        "train_set=[]\n",
        "test_set=[]\n",
        "\n",
        "for S in scattering_vector_train:\n",
        "  feature_vector_train=[]\n",
        "  for a in S:\n",
        "    for b in a:\n",
        "      for c in b:\n",
        "        #feature_vector_train=feature_vector_train+[log(c)] # With or without log\n",
        "        feature_vector_train=feature_vector_train+[c]\n",
        "  feature_vector_train=np.asarray(feature_vector_train)\n",
        "  train_set=train_set+[feature_vector_train]\n",
        "\n",
        "for S in scattering_vector_test:\n",
        "  feature_vector_test=[]\n",
        "  for a in S:\n",
        "    for b in a:\n",
        "      for c in b:\n",
        "        #feature_vector_test=feature_vector_test+[log(c)]  # With or without log\n",
        "        feature_vector_test=feature_vector_test+[c]\n",
        "  feature_vector_test=np.asarray(feature_vector_test)\n",
        "  test_set=test_set+[feature_vector_test]\n",
        "\n",
        "train_set=np.asarray(train_set)\n",
        "test_set=np.asarray(test_set)"
      ],
      "execution_count": 0,
      "outputs": []
    },
    {
      "cell_type": "markdown",
      "metadata": {
        "id": "58qvn6adkvXG",
        "colab_type": "text"
      },
      "source": [
        "SVM classification"
      ]
    },
    {
      "cell_type": "code",
      "metadata": {
        "id": "9CQ85FiJvSdR",
        "colab_type": "code",
        "colab": {}
      },
      "source": [
        "from sklearn.svm import SVC"
      ],
      "execution_count": 0,
      "outputs": []
    },
    {
      "cell_type": "code",
      "metadata": {
        "id": "CJKQG6IZln_9",
        "colab_type": "code",
        "outputId": "431e1b3f-fc98-49b0-cd7c-7490b798cbb6",
        "colab": {
          "base_uri": "https://localhost:8080/",
          "height": 141
        }
      },
      "source": [
        "modelSVM = SVC(kernel=\"linear\", probability=True)\n",
        "modelSVM.fit(train_set, label_train[:len_train_set])"
      ],
      "execution_count": 0,
      "outputs": [
        {
          "output_type": "stream",
          "text": [
            "/usr/local/lib/python3.6/dist-packages/sklearn/utils/validation.py:760: DataConversionWarning: A column-vector y was passed when a 1d array was expected. Please change the shape of y to (n_samples, ), for example using ravel().\n",
            "  y = column_or_1d(y, warn=True)\n"
          ],
          "name": "stderr"
        },
        {
          "output_type": "execute_result",
          "data": {
            "text/plain": [
              "SVC(C=1.0, break_ties=False, cache_size=200, class_weight=None, coef0=0.0,\n",
              "    decision_function_shape='ovr', degree=3, gamma='scale', kernel='linear',\n",
              "    max_iter=-1, probability=True, random_state=None, shrinking=True, tol=0.001,\n",
              "    verbose=False)"
            ]
          },
          "metadata": {
            "tags": []
          },
          "execution_count": 9
        }
      ]
    },
    {
      "cell_type": "code",
      "metadata": {
        "id": "W8XEMr4t0V9Z",
        "colab_type": "code",
        "outputId": "d5ee43a0-da8d-4299-cdcc-a6784f352368",
        "colab": {
          "base_uri": "https://localhost:8080/",
          "height": 34
        }
      },
      "source": [
        "accuracy = modelSVM.score(test_set, label_test[:len_test_set])\n",
        "print('Accuracy: %.2f' % (accuracy*100))"
      ],
      "execution_count": 0,
      "outputs": [
        {
          "output_type": "stream",
          "text": [
            "Accuracy: 48.60\n"
          ],
          "name": "stdout"
        }
      ]
    }
  ]
}
