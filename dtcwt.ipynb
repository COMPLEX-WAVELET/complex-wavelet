{
  "nbformat": 4,
  "nbformat_minor": 0,
  "metadata": {
    "colab": {
      "name": "dtcwt.ipynb",
      "provenance": [],
      "collapsed_sections": []
    },
    "kernelspec": {
      "name": "python3",
      "display_name": "Python 3"
    }
  },
  "cells": [
    {
      "cell_type": "code",
      "metadata": {
        "id": "Imtwi7pk1iwf",
        "colab_type": "code",
        "outputId": "12f191d1-9864-47b0-ba7f-8869ee1feed5",
        "colab": {
          "base_uri": "https://localhost:8080/",
          "height": 285
        }
      },
      "source": [
        "from numpy import *\n",
        "# Load the mandrill image\n",
        "from PIL import Image\n",
        "mandrill = Image.open('/content/IMG_20181029_133819696_BURST001 (1).jpg')\n",
        "mandrill=mandrill.convert('L')\n",
        "mandrill = mandrill.resize((64,64))\n",
        "mandrill = asarray( mandrill )\n",
        "\n",
        "# Show mandrill\n",
        "from matplotlib.pyplot import *\n",
        "figure(1)\n",
        "imshow(mandrill)"
      ],
      "execution_count": 0,
      "outputs": [
        {
          "output_type": "execute_result",
          "data": {
            "text/plain": [
              "<matplotlib.image.AxesImage at 0x7f8274d82908>"
            ]
          },
          "metadata": {
            "tags": []
          },
          "execution_count": 2
        },
        {
          "output_type": "display_data",
          "data": {
            "image/png": "[encoded data removed]",
            "text/plain": [
              "<Figure size 432x288 with 1 Axes>"
            ]
          },
          "metadata": {
            "tags": []
          }
        }
      ]
    },
    {
      "cell_type": "code",
      "metadata": {
        "id": "58en8o-s16vF",
        "colab_type": "code",
        "outputId": "ebc310da-e7f0-43d0-a25c-468e8c852cad",
        "colab": {
          "base_uri": "https://localhost:8080/",
          "height": 306
        }
      },
      "source": [
        "!pip install dtcwt\n",
        "import dtcwt"
      ],
      "execution_count": 0,
      "outputs": [
        {
          "output_type": "stream",
          "text": [
            "Collecting dtcwt\n",
            "\u001b[?25l  Downloading https://files.pythonhosted.org/packages/2a/dd/cb52e5b1aebf6b59227f5acc0256426c730a81cfcac4c9ff2fd9f4a45b16/dtcwt-0.12.0.tar.gz (70kB)\n",
            "\r\u001b[K     |████▋                           | 10kB 20.9MB/s eta 0:00:01\r\u001b[K     |█████████▎                      | 20kB 3.2MB/s eta 0:00:01\r\u001b[K     |█████████████▉                  | 30kB 4.3MB/s eta 0:00:01\r\u001b[K     |██████████████████▌             | 40kB 2.9MB/s eta 0:00:01\r\u001b[K     |███████████████████████▏        | 51kB 3.3MB/s eta 0:00:01\r\u001b[K     |███████████████████████████▊    | 61kB 3.9MB/s eta 0:00:01\r\u001b[K     |████████████████████████████████| 71kB 3.1MB/s \n",
            "\u001b[?25hRequirement already satisfied: numpy in /usr/local/lib/python3.6/dist-packages (from dtcwt) (1.17.5)\n",
            "Requirement already satisfied: six in /usr/local/lib/python3.6/dist-packages (from dtcwt) (1.12.0)\n",
            "Building wheels for collected packages: dtcwt\n",
            "  Building wheel for dtcwt (setup.py) ... \u001b[?25l\u001b[?25hdone\n",
            "  Created wheel for dtcwt: filename=dtcwt-0.12.0-cp36-none-any.whl size=87884 sha256=7354dfbd189c3684229fcc9d5aff06551783c4cf247ac69f7b7c8c010031ba40\n",
            "  Stored in directory: /root/.cache/pip/wheels/af/50/10/5db3067e8d9829dc244808b67d0c0c6b9226756c923e785450\n",
            "Successfully built dtcwt\n",
            "Installing collected packages: dtcwt\n",
            "Successfully installed dtcwt-0.12.0\n"
          ],
          "name": "stdout"
        },
        {
          "output_type": "display_data",
          "data": {
            "text/html": [
              "<p style=\"color: red;\">\n",
              "The default version of TensorFlow in Colab will soon switch to TensorFlow 2.x.<br>\n",
              "We recommend you <a href=\"https://www.tensorflow.org/guide/migrate\" target=\"_blank\">upgrade</a> now \n",
              "or ensure your notebook will continue to use TensorFlow 1.x via the <code>%tensorflow_version 1.x</code> magic:\n",
              "<a href=\"https://colab.research.google.com/notebooks/tensorflow_version.ipynb\" target=\"_blank\">more info</a>.</p>\n"
            ],
            "text/plain": [
              "<IPython.core.display.HTML object>"
            ]
          },
          "metadata": {
            "tags": []
          }
        }
      ]
    },
    {
      "cell_type": "code",
      "metadata": {
        "id": "DGjn5xnH2Dwi",
        "colab_type": "code",
        "outputId": "58c85f91-8d31-41cb-fd8c-bb90cde943ef",
        "colab": {
          "base_uri": "https://localhost:8080/",
          "height": 34
        }
      },
      "source": [
        "transform = dtcwt.Transform2d()\n",
        "\n",
        "def layer(scattering_vector,image,m):\n",
        "  n=len(image)\n",
        "  J=int(log(n/4)/log(2))\n",
        "  image_t=transform.forward(image, nlevels=J+1)\n",
        "  if n>4 and m<M:\n",
        "    for j in range(J):\n",
        "      for theta in range(image_t.highpasses[j].shape[2]):\n",
        "        scattering_vector=layer(scattering_vector,abs(image_t.highpasses[j][:,:,theta]),m+1)\n",
        "    return([image_t.lowpass]+scattering_vector)\n",
        "  else:\n",
        "    return([image_t.lowpass]+scattering_vector)\n",
        "\n",
        "\n",
        "M=2\n",
        "scattering_vector=layer([],mandrill,0)\n",
        "print(len(scattering_vector))\n",
        "\n",
        "#1+6*4+6*36=241\n"
      ],
      "execution_count": 0,
      "outputs": [
        {
          "output_type": "stream",
          "text": [
            "241\n"
          ],
          "name": "stdout"
        }
      ]
    },
    {
      "cell_type": "code",
      "metadata": {
        "id": "pT1raNmZ_TQZ",
        "colab_type": "code",
        "outputId": "20f4a6c8-2921-4814-807f-32413e6f9ca8",
        "colab": {
          "base_uri": "https://localhost:8080/",
          "height": 548
        }
      },
      "source": [
        "scattering_vector=log(scattering_vector)"
      ],
      "execution_count": 0,
      "outputs": [
        {
          "output_type": "execute_result",
          "data": {
            "text/plain": [
              "array([[[7.71170964, 7.87787863, 7.93325344, 7.95797545],\n",
              "        [7.19744994, 7.00851576, 7.0510981 , 7.36111088],\n",
              "        [6.86016082, 6.71519288, 6.74699495, 7.00416054],\n",
              "        [6.45994529, 7.27744465, 7.33572043, 6.88350913]],\n",
              "\n",
              "       [[5.24522651, 5.71250616, 5.86874423, 5.71028357],\n",
              "        [4.86312959, 5.32123956, 5.44024946, 5.1414322 ],\n",
              "        [5.07013962, 5.63816918, 5.56647555, 4.68172252],\n",
              "        [5.42204677, 6.23152356, 6.08073371, 4.78170711]],\n",
              "\n",
              "       [[3.65094551, 4.21173409, 4.42024755, 4.34424588],\n",
              "        [4.46947757, 4.61335058, 4.46310116, 3.89514132],\n",
              "        [5.18141839, 5.15830889, 4.84465542, 3.9374871 ],\n",
              "        [5.45307602, 5.69929336, 5.54397329, 4.57496207]],\n",
              "\n",
              "       ...,\n",
              "\n",
              "       [[3.11581206, 2.65614826, 2.30814278, 2.27262331],\n",
              "        [3.30790953, 3.16545602, 2.91780351, 2.55228793],\n",
              "        [3.29701834, 3.35638565, 3.21342164, 2.81232583],\n",
              "        [2.95398096, 3.36452114, 3.3889572 , 3.03447512]],\n",
              "\n",
              "       [[2.569525  , 2.10448877, 1.93161745, 2.19399728],\n",
              "        [3.01427617, 2.96714101, 2.76382208, 2.36398283],\n",
              "        [3.08792649, 3.29380073, 3.16025971, 2.55457251],\n",
              "        [2.7081797 , 3.37983399, 3.39382822, 2.76844983]],\n",
              "\n",
              "       [[3.08635752, 3.36006722, 3.53334346, 3.64471927],\n",
              "        [3.49983884, 3.34288069, 3.20499214, 3.09878379],\n",
              "        [3.55805052, 3.4299548 , 3.21622029, 2.82396693],\n",
              "        [3.05859402, 3.52194395, 3.53756582, 3.05745839]]])"
            ]
          },
          "metadata": {
            "tags": []
          },
          "execution_count": 21
        }
      ]
    },
    {
      "cell_type": "code",
      "metadata": {
        "id": "31YhWc46SzpK",
        "colab_type": "code",
        "outputId": "dd21ecf0-5b21-43f6-bbfb-06e9a1257a6a",
        "colab": {
          "base_uri": "https://localhost:8080/",
          "height": 51
        }
      },
      "source": [
        "feature_vector=[]\n",
        "for S in scattering_vector:\n",
        "  for i in S:\n",
        "    for j in i:\n",
        "      feature_vector=feature_vector+[j]\n",
        "\n",
        "feature_vector=np.array(feature_vector)\n",
        "n=len(feature_vector)"
      ],
      "execution_count": 0,
      "outputs": [
        {
          "output_type": "execute_result",
          "data": {
            "text/plain": [
              "array([7.71170964, 7.87787863, 7.93325344, ..., 3.52194395, 3.53756582,\n",
              "       3.05745839])"
            ]
          },
          "metadata": {
            "tags": []
          },
          "execution_count": 39
        }
      ]
    },
    {
      "cell_type": "code",
      "metadata": {
        "id": "sr_shWi_W-fG",
        "colab_type": "code",
        "outputId": "d045d11a-456b-409e-ab71-dde515027a8f",
        "colab": {
          "base_uri": "https://localhost:8080/",
          "height": 206
        }
      },
      "source": [
        "from keras import *\n",
        "\n",
        "model_w = Sequential()\n",
        "model_w.add(layers.Dense(10, activation='linear', input_dim=n))\n",
        "print(model_w.summary())\n",
        "\n",
        "model_w.compile(optimizer='rmsprop',\n",
        "              loss='categorical_crossentropy',\n",
        "              metrics=['accuracy'])"
      ],
      "execution_count": 0,
      "outputs": [
        {
          "output_type": "stream",
          "text": [
            "Model: \"sequential_5\"\n",
            "_________________________________________________________________\n",
            "Layer (type)                 Output Shape              Param #   \n",
            "=================================================================\n",
            "dense_5 (Dense)              (None, 10)                38570     \n",
            "=================================================================\n",
            "Total params: 38,570\n",
            "Trainable params: 38,570\n",
            "Non-trainable params: 0\n",
            "_________________________________________________________________\n",
            "None\n"
          ],
          "name": "stdout"
        }
      ]
    },
    {
      "cell_type": "code",
      "metadata": {
        "id": "VTJ7WQYOnkkN",
        "colab_type": "code",
        "outputId": "82ac0bdb-4032-4b11-e538-96427a3ec724",
        "colab": {
          "base_uri": "https://localhost:8080/",
          "height": 328
        }
      },
      "source": [
        "model_w.predict(feature_vector)"
      ],
      "execution_count": 0,
      "outputs": [
        {
          "output_type": "error",
          "ename": "ValueError",
          "evalue": "ignored",
          "traceback": [
            "\u001b[0;31m---------------------------------------------------------------------------\u001b[0m",
            "\u001b[0;31mValueError\u001b[0m                                Traceback (most recent call last)",
            "\u001b[0;32m<ipython-input-38-2dab271d7234>\u001b[0m in \u001b[0;36m<module>\u001b[0;34m()\u001b[0m\n\u001b[0;32m----> 1\u001b[0;31m \u001b[0mmodel_w\u001b[0m\u001b[0;34m.\u001b[0m\u001b[0mpredict\u001b[0m\u001b[0;34m(\u001b[0m\u001b[0mfeature_vector\u001b[0m\u001b[0;34m)\u001b[0m\u001b[0;34m\u001b[0m\u001b[0;34m\u001b[0m\u001b[0m\n\u001b[0m",
            "\u001b[0;32m/usr/local/lib/python3.6/dist-packages/keras/engine/training.py\u001b[0m in \u001b[0;36mpredict\u001b[0;34m(self, x, batch_size, verbose, steps, callbacks, max_queue_size, workers, use_multiprocessing)\u001b[0m\n\u001b[1;32m   1378\u001b[0m \u001b[0;34m\u001b[0m\u001b[0m\n\u001b[1;32m   1379\u001b[0m         \u001b[0;31m# Case 2: Symbolic tensors or Numpy array-like.\u001b[0m\u001b[0;34m\u001b[0m\u001b[0;34m\u001b[0m\u001b[0;34m\u001b[0m\u001b[0m\n\u001b[0;32m-> 1380\u001b[0;31m         \u001b[0mx\u001b[0m\u001b[0;34m,\u001b[0m \u001b[0m_\u001b[0m\u001b[0;34m,\u001b[0m \u001b[0m_\u001b[0m \u001b[0;34m=\u001b[0m \u001b[0mself\u001b[0m\u001b[0;34m.\u001b[0m\u001b[0m_standardize_user_data\u001b[0m\u001b[0;34m(\u001b[0m\u001b[0mx\u001b[0m\u001b[0;34m)\u001b[0m\u001b[0;34m\u001b[0m\u001b[0;34m\u001b[0m\u001b[0m\n\u001b[0m\u001b[1;32m   1381\u001b[0m         \u001b[0;32mif\u001b[0m \u001b[0mself\u001b[0m\u001b[0;34m.\u001b[0m\u001b[0mstateful\u001b[0m\u001b[0;34m:\u001b[0m\u001b[0;34m\u001b[0m\u001b[0;34m\u001b[0m\u001b[0m\n\u001b[1;32m   1382\u001b[0m             \u001b[0;32mif\u001b[0m \u001b[0mx\u001b[0m\u001b[0;34m[\u001b[0m\u001b[0;36m0\u001b[0m\u001b[0;34m]\u001b[0m\u001b[0;34m.\u001b[0m\u001b[0mshape\u001b[0m\u001b[0;34m[\u001b[0m\u001b[0;36m0\u001b[0m\u001b[0;34m]\u001b[0m \u001b[0;34m>\u001b[0m \u001b[0mbatch_size\u001b[0m \u001b[0;32mand\u001b[0m \u001b[0mx\u001b[0m\u001b[0;34m[\u001b[0m\u001b[0;36m0\u001b[0m\u001b[0;34m]\u001b[0m\u001b[0;34m.\u001b[0m\u001b[0mshape\u001b[0m\u001b[0;34m[\u001b[0m\u001b[0;36m0\u001b[0m\u001b[0;34m]\u001b[0m \u001b[0;34m%\u001b[0m \u001b[0mbatch_size\u001b[0m \u001b[0;34m!=\u001b[0m \u001b[0;36m0\u001b[0m\u001b[0;34m:\u001b[0m\u001b[0;34m\u001b[0m\u001b[0;34m\u001b[0m\u001b[0m\n",
            "\u001b[0;32m/usr/local/lib/python3.6/dist-packages/keras/engine/training.py\u001b[0m in \u001b[0;36m_standardize_user_data\u001b[0;34m(self, x, y, sample_weight, class_weight, check_array_lengths, batch_size)\u001b[0m\n\u001b[1;32m    755\u001b[0m             \u001b[0mfeed_input_shapes\u001b[0m\u001b[0;34m,\u001b[0m\u001b[0;34m\u001b[0m\u001b[0;34m\u001b[0m\u001b[0m\n\u001b[1;32m    756\u001b[0m             \u001b[0mcheck_batch_axis\u001b[0m\u001b[0;34m=\u001b[0m\u001b[0;32mFalse\u001b[0m\u001b[0;34m,\u001b[0m  \u001b[0;31m# Don't enforce the batch size.\u001b[0m\u001b[0;34m\u001b[0m\u001b[0;34m\u001b[0m\u001b[0m\n\u001b[0;32m--> 757\u001b[0;31m             exception_prefix='input')\n\u001b[0m\u001b[1;32m    758\u001b[0m \u001b[0;34m\u001b[0m\u001b[0m\n\u001b[1;32m    759\u001b[0m         \u001b[0;32mif\u001b[0m \u001b[0my\u001b[0m \u001b[0;32mis\u001b[0m \u001b[0;32mnot\u001b[0m \u001b[0;32mNone\u001b[0m\u001b[0;34m:\u001b[0m\u001b[0;34m\u001b[0m\u001b[0;34m\u001b[0m\u001b[0m\n",
            "\u001b[0;32m/usr/local/lib/python3.6/dist-packages/keras/engine/training_utils.py\u001b[0m in \u001b[0;36mstandardize_input_data\u001b[0;34m(data, names, shapes, check_batch_axis, exception_prefix)\u001b[0m\n\u001b[1;32m    139\u001b[0m                             \u001b[0;34m': expected '\u001b[0m \u001b[0;34m+\u001b[0m \u001b[0mnames\u001b[0m\u001b[0;34m[\u001b[0m\u001b[0mi\u001b[0m\u001b[0;34m]\u001b[0m \u001b[0;34m+\u001b[0m \u001b[0;34m' to have shape '\u001b[0m \u001b[0;34m+\u001b[0m\u001b[0;34m\u001b[0m\u001b[0;34m\u001b[0m\u001b[0m\n\u001b[1;32m    140\u001b[0m                             \u001b[0mstr\u001b[0m\u001b[0;34m(\u001b[0m\u001b[0mshape\u001b[0m\u001b[0;34m)\u001b[0m \u001b[0;34m+\u001b[0m \u001b[0;34m' but got array with shape '\u001b[0m \u001b[0;34m+\u001b[0m\u001b[0;34m\u001b[0m\u001b[0;34m\u001b[0m\u001b[0m\n\u001b[0;32m--> 141\u001b[0;31m                             str(data_shape))\n\u001b[0m\u001b[1;32m    142\u001b[0m     \u001b[0;32mreturn\u001b[0m \u001b[0mdata\u001b[0m\u001b[0;34m\u001b[0m\u001b[0;34m\u001b[0m\u001b[0m\n\u001b[1;32m    143\u001b[0m \u001b[0;34m\u001b[0m\u001b[0m\n",
            "\u001b[0;31mValueError\u001b[0m: Error when checking input: expected dense_5_input to have shape (3856,) but got array with shape (1,)"
          ]
        }
      ]
    }
  ]
}